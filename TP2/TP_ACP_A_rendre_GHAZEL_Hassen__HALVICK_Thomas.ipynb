{
 "cells": [
  {
   "cell_type": "markdown",
   "metadata": {},
   "source": [
    "# TP2 ADM : Analyse de données (ACP) avec Python\n",
    "### GHAZEL Hassen, HALVICK Thomas\n",
    "### Polytech Lyon | 4A Info"
   ]
  },
  {
   "cell_type": "code",
   "execution_count": 1,
   "metadata": {},
   "outputs": [],
   "source": [
    "import numpy as np\n",
    "np.set_printoptions(threshold=10000,suppress=True)\n",
    "import pandas as pd\n",
    "import warnings\n",
    "import matplotlib.pyplot as plt\n",
    "warnings.filterwarnings('ignore')"
   ]
  },
  {
   "cell_type": "markdown",
   "metadata": {},
   "source": [
    "### *Question 1*"
   ]
  },
  {
   "cell_type": "code",
   "execution_count": 2,
   "metadata": {},
   "outputs": [],
   "source": [
    "from typing import Any, Tuple, Union\n",
    "\n",
    "from numpy import ndarray\n",
    "\n",
    "\n",
    "def import_CSV(csv_path: str, nb_cols: int) -> Tuple[Union[ndarray, Any], Union[ndarray, Any]]:\n",
    "    \"\"\"Ouvre un fichier CSV et retourne les données et les labels extraits.\n",
    "\n",
    "    Args:\n",
    "        csv_path (str): Chemin vers le fichier.\n",
    "        nb_cols (int): Nombre de colonnes de données.\n",
    "\n",
    "    Returns:\n",
    "        Tuple[Union[ndarray, Any], Union[ndarray, Any]]: Tuple des données et des labels extraits du fichier.\n",
    "    \"\"\"\n",
    "    # Importation du fichier CSV\n",
    "    data = pd.read_csv(csv_path, sep=';')\n",
    "    # Valeurs\n",
    "    X = data.iloc[:, 1:int(nb_cols)].values\n",
    "    # Nom des villes\n",
    "    labels = data.iloc[:, 0].values\n",
    "    \n",
    "    return X, labels\n",
    "\n",
    "X, labels = import_CSV('./data/villes.csv', 13)"
   ]
  }
 ],
 "metadata": {
  "kernelspec": {
   "display_name": "Python 3",
   "language": "python",
   "name": "python3"
  },
  "language_info": {
   "codemirror_mode": {
    "name": "ipython",
    "version": 3
   },
   "file_extension": ".py",
   "mimetype": "text/x-python",
   "name": "python",
   "nbconvert_exporter": "python",
   "pygments_lexer": "ipython3",
   "version": "3.8.5"
  }
 },
 "nbformat": 4,
 "nbformat_minor": 2
}
